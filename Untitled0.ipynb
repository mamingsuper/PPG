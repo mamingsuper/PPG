{
  "nbformat": 4,
  "nbformat_minor": 0,
  "metadata": {
    "colab": {
      "provenance": [],
      "authorship_tag": "ABX9TyNkNFk/yC/QwaJCvuPD+9Ix",
      "include_colab_link": true
    },
    "kernelspec": {
      "name": "python3",
      "display_name": "Python 3"
    },
    "language_info": {
      "name": "python"
    }
  },
  "cells": [
    {
      "cell_type": "markdown",
      "metadata": {
        "id": "view-in-github",
        "colab_type": "text"
      },
      "source": [
        "<a href=\"https://colab.research.google.com/github/mamingsuper/PPG/blob/main/Untitled0.ipynb\" target=\"_parent\"><img src=\"https://colab.research.google.com/assets/colab-badge.svg\" alt=\"Open In Colab\"/></a>"
      ]
    },
    {
      "cell_type": "code",
      "source": [
        "import pandas as pd\n",
        "\n",
        "#raise\n",
        "# Create a 3x3 pandas DataFrame ??\n",
        "data = [[1, 2, 3], [4, 5, 6], [7, 8, 9]]\n",
        "df = pd.DataFrame(data, columns=['A', 'B', 'C'])\n",
        "\n",
        "# Save the DataFrame to a .csv file\n",
        "df.to_csv('a.csv', index=False)\n",
        "\n",
        "#%%"
      ],
      "metadata": {
        "id": "rwkTj7qc3pI6"
      },
      "execution_count": 3,
      "outputs": []
    }
  ]
}